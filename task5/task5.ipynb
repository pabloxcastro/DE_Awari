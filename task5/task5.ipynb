{
 "cells": [
  {
   "cell_type": "code",
   "execution_count": 13,
   "id": "901f14a9-6d60-4ddc-9d98-21b5b4459a44",
   "metadata": {
    "tags": []
   },
   "outputs": [
    {
     "name": "stdout",
     "output_type": "stream",
     "text": [
      "Requirement already satisfied: pandas in /Library/Frameworks/Python.framework/Versions/3.10/lib/python3.10/site-packages (2.0.2)\n",
      "Requirement already satisfied: python-dateutil>=2.8.2 in /Users/pablocastro/Library/Python/3.10/lib/python/site-packages (from pandas) (2.8.2)\n",
      "Requirement already satisfied: pytz>=2020.1 in /Library/Frameworks/Python.framework/Versions/3.10/lib/python3.10/site-packages (from pandas) (2022.7.1)\n",
      "Requirement already satisfied: tzdata>=2022.1 in /Library/Frameworks/Python.framework/Versions/3.10/lib/python3.10/site-packages (from pandas) (2023.3)\n",
      "Requirement already satisfied: numpy>=1.21.0 in /Library/Frameworks/Python.framework/Versions/3.10/lib/python3.10/site-packages (from pandas) (1.24.3)\n",
      "Requirement already satisfied: six>=1.5 in /Library/Frameworks/Python.framework/Versions/3.10/lib/python3.10/site-packages (from python-dateutil>=2.8.2->pandas) (1.16.0)\n"
     ]
    }
   ],
   "source": [
    "!pip install pandas"
   ]
  },
  {
   "cell_type": "code",
   "execution_count": 14,
   "id": "349d2ebc-74b4-49c0-b9f1-432cf4776b71",
   "metadata": {
    "tags": []
   },
   "outputs": [],
   "source": [
    "import pandas as pd"
   ]
  },
  {
   "cell_type": "code",
   "execution_count": 15,
   "id": "d6d0083e-190b-4acc-a3e2-a483d0a17d27",
   "metadata": {
    "tags": []
   },
   "outputs": [],
   "source": [
    "df = pd.read_csv('data/topyoutube.csv')"
   ]
  },
  {
   "cell_type": "code",
   "execution_count": 16,
   "id": "c43ef3a9-4563-460a-a9e2-6c8cbfb3a813",
   "metadata": {
    "tags": []
   },
   "outputs": [
    {
     "data": {
      "text/html": [
       "<div>\n",
       "<style scoped>\n",
       "    .dataframe tbody tr th:only-of-type {\n",
       "        vertical-align: middle;\n",
       "    }\n",
       "\n",
       "    .dataframe tbody tr th {\n",
       "        vertical-align: top;\n",
       "    }\n",
       "\n",
       "    .dataframe thead th {\n",
       "        text-align: right;\n",
       "    }\n",
       "</style>\n",
       "<table border=\"1\" class=\"dataframe\">\n",
       "  <thead>\n",
       "    <tr style=\"text-align: right;\">\n",
       "      <th></th>\n",
       "      <th>Artist</th>\n",
       "      <th>Total Views</th>\n",
       "      <th>100M</th>\n",
       "      <th>Avg</th>\n",
       "    </tr>\n",
       "  </thead>\n",
       "  <tbody>\n",
       "    <tr>\n",
       "      <th>0</th>\n",
       "      <td>BTS</td>\n",
       "      <td>27,947.9</td>\n",
       "      <td>63.0</td>\n",
       "      <td>7.370</td>\n",
       "    </tr>\n",
       "    <tr>\n",
       "      <th>1</th>\n",
       "      <td>Bad Bunny</td>\n",
       "      <td>27,573.4</td>\n",
       "      <td>66.0</td>\n",
       "      <td>14.555</td>\n",
       "    </tr>\n",
       "    <tr>\n",
       "      <th>2</th>\n",
       "      <td>Justin Bieber</td>\n",
       "      <td>27,399.7</td>\n",
       "      <td>37.0</td>\n",
       "      <td>3.986</td>\n",
       "    </tr>\n",
       "    <tr>\n",
       "      <th>3</th>\n",
       "      <td>Ed Sheeran</td>\n",
       "      <td>26,894.0</td>\n",
       "      <td>39.0</td>\n",
       "      <td>4.609</td>\n",
       "    </tr>\n",
       "    <tr>\n",
       "      <th>4</th>\n",
       "      <td>Taylor Swift</td>\n",
       "      <td>24,350.0</td>\n",
       "      <td>38.0</td>\n",
       "      <td>5.716</td>\n",
       "    </tr>\n",
       "  </tbody>\n",
       "</table>\n",
       "</div>"
      ],
      "text/plain": [
       "          Artist Total Views  100M     Avg\n",
       "0            BTS    27,947.9  63.0   7.370\n",
       "1      Bad Bunny    27,573.4  66.0  14.555\n",
       "2  Justin Bieber    27,399.7  37.0   3.986\n",
       "3     Ed Sheeran    26,894.0  39.0   4.609\n",
       "4   Taylor Swift    24,350.0  38.0   5.716"
      ]
     },
     "execution_count": 16,
     "metadata": {},
     "output_type": "execute_result"
    }
   ],
   "source": [
    "df.head(5)"
   ]
  },
  {
   "cell_type": "code",
   "execution_count": 17,
   "id": "43f806f3-6b66-4e25-97a3-80d5e0fc3326",
   "metadata": {
    "tags": []
   },
   "outputs": [],
   "source": [
    "# Tratar as colunas sem informação adicionando o texto “Não informado”\n",
    "df.fillna('Não informado', inplace=True)"
   ]
  },
  {
   "cell_type": "code",
   "execution_count": 18,
   "id": "a20d8637-2fad-4268-b8af-04ce6a2c7d9b",
   "metadata": {
    "tags": []
   },
   "outputs": [
    {
     "name": "stdout",
     "output_type": "stream",
     "text": [
      "<class 'pandas.core.frame.DataFrame'>\n",
      "RangeIndex: 1587 entries, 0 to 1586\n",
      "Data columns (total 4 columns):\n",
      " #   Column       Non-Null Count  Dtype  \n",
      "---  ------       --------------  -----  \n",
      " 0   Artist       1587 non-null   object \n",
      " 1   Total Views  1587 non-null   object \n",
      " 2   100M         1587 non-null   object \n",
      " 3   Avg          1587 non-null   float64\n",
      "dtypes: float64(1), object(3)\n",
      "memory usage: 49.7+ KB\n"
     ]
    }
   ],
   "source": [
    "df.info()"
   ]
  },
  {
   "cell_type": "code",
   "execution_count": 19,
   "id": "c2b1d844-0f00-49f1-80e6-ad97e747892a",
   "metadata": {
    "tags": []
   },
   "outputs": [],
   "source": [
    "# Formatar a coluna de total de inscritos multiplicando por 100 milhões.\n",
    "\n",
    "#primeiro limpando carcateres na coluna tipo string\n",
    "df['Total Views'] = df['Total Views'].str.replace(',', '', regex=False)\n",
    "df['Total Views'] = df['Total Views'].str.replace('.', '', regex=False)\n",
    "\n",
    "#depois convertendo para float\n",
    "df['Total Views'] = df['Total Views'].astype(float)\n",
    "\n",
    "#efetivamente multiplicando conforme demanda\n",
    "df['Total Views'] = df['Total Views'] * 100000000"
   ]
  },
  {
   "cell_type": "code",
   "execution_count": 20,
   "id": "1cfb2c3d-18c7-4c73-b53f-1f567b053164",
   "metadata": {
    "tags": []
   },
   "outputs": [],
   "source": [
    "# Formatar coluna “AVG” para 2 casas decimais depois da vírgula.\n",
    "df['Avg'] = df['Avg'].round(2)"
   ]
  },
  {
   "cell_type": "code",
   "execution_count": 21,
   "id": "2d49b715-6112-43d6-a0ae-f162cbde0de5",
   "metadata": {
    "tags": []
   },
   "outputs": [
    {
     "data": {
      "text/html": [
       "<div>\n",
       "<style scoped>\n",
       "    .dataframe tbody tr th:only-of-type {\n",
       "        vertical-align: middle;\n",
       "    }\n",
       "\n",
       "    .dataframe tbody tr th {\n",
       "        vertical-align: top;\n",
       "    }\n",
       "\n",
       "    .dataframe thead th {\n",
       "        text-align: right;\n",
       "    }\n",
       "</style>\n",
       "<table border=\"1\" class=\"dataframe\">\n",
       "  <thead>\n",
       "    <tr style=\"text-align: right;\">\n",
       "      <th></th>\n",
       "      <th>Artist</th>\n",
       "      <th>Total Views</th>\n",
       "      <th>100M</th>\n",
       "      <th>Avg</th>\n",
       "    </tr>\n",
       "  </thead>\n",
       "  <tbody>\n",
       "    <tr>\n",
       "      <th>0</th>\n",
       "      <td>BTS</td>\n",
       "      <td>2.794790e+13</td>\n",
       "      <td>63.0</td>\n",
       "      <td>7.37</td>\n",
       "    </tr>\n",
       "    <tr>\n",
       "      <th>1</th>\n",
       "      <td>Bad Bunny</td>\n",
       "      <td>2.757340e+13</td>\n",
       "      <td>66.0</td>\n",
       "      <td>14.56</td>\n",
       "    </tr>\n",
       "    <tr>\n",
       "      <th>2</th>\n",
       "      <td>Justin Bieber</td>\n",
       "      <td>2.739970e+13</td>\n",
       "      <td>37.0</td>\n",
       "      <td>3.99</td>\n",
       "    </tr>\n",
       "    <tr>\n",
       "      <th>3</th>\n",
       "      <td>Ed Sheeran</td>\n",
       "      <td>2.689400e+13</td>\n",
       "      <td>39.0</td>\n",
       "      <td>4.61</td>\n",
       "    </tr>\n",
       "    <tr>\n",
       "      <th>4</th>\n",
       "      <td>Taylor Swift</td>\n",
       "      <td>2.435000e+13</td>\n",
       "      <td>38.0</td>\n",
       "      <td>5.72</td>\n",
       "    </tr>\n",
       "    <tr>\n",
       "      <th>5</th>\n",
       "      <td>Shakira</td>\n",
       "      <td>2.396180e+13</td>\n",
       "      <td>43.0</td>\n",
       "      <td>7.84</td>\n",
       "    </tr>\n",
       "    <tr>\n",
       "      <th>6</th>\n",
       "      <td>Katy Perry</td>\n",
       "      <td>2.355340e+13</td>\n",
       "      <td>25.0</td>\n",
       "      <td>3.18</td>\n",
       "    </tr>\n",
       "    <tr>\n",
       "      <th>7</th>\n",
       "      <td>Ozuna</td>\n",
       "      <td>2.252480e+13</td>\n",
       "      <td>49.0</td>\n",
       "      <td>4.93</td>\n",
       "    </tr>\n",
       "    <tr>\n",
       "      <th>8</th>\n",
       "      <td>Eminem</td>\n",
       "      <td>2.093770e+13</td>\n",
       "      <td>38.0</td>\n",
       "      <td>5.84</td>\n",
       "    </tr>\n",
       "    <tr>\n",
       "      <th>9</th>\n",
       "      <td>Ariana Grande</td>\n",
       "      <td>2.061850e+13</td>\n",
       "      <td>37.0</td>\n",
       "      <td>3.37</td>\n",
       "    </tr>\n",
       "  </tbody>\n",
       "</table>\n",
       "</div>"
      ],
      "text/plain": [
       "          Artist   Total Views  100M    Avg\n",
       "0            BTS  2.794790e+13  63.0   7.37\n",
       "1      Bad Bunny  2.757340e+13  66.0  14.56\n",
       "2  Justin Bieber  2.739970e+13  37.0   3.99\n",
       "3     Ed Sheeran  2.689400e+13  39.0   4.61\n",
       "4   Taylor Swift  2.435000e+13  38.0   5.72\n",
       "5        Shakira  2.396180e+13  43.0   7.84\n",
       "6     Katy Perry  2.355340e+13  25.0   3.18\n",
       "7          Ozuna  2.252480e+13  49.0   4.93\n",
       "8         Eminem  2.093770e+13  38.0   5.84\n",
       "9  Ariana Grande  2.061850e+13  37.0   3.37"
      ]
     },
     "execution_count": 21,
     "metadata": {},
     "output_type": "execute_result"
    }
   ],
   "source": [
    "# Mostrar os top 10 Total Views.\n",
    "top_10 = df.nlargest(10, 'Total Views')\n",
    "top_10\n"
   ]
  },
  {
   "cell_type": "code",
   "execution_count": 22,
   "id": "0b8311b0-2bb6-4bc8-aa53-2ffb8edebff4",
   "metadata": {
    "tags": []
   },
   "outputs": [
    {
     "data": {
      "text/html": [
       "<div>\n",
       "<style scoped>\n",
       "    .dataframe tbody tr th:only-of-type {\n",
       "        vertical-align: middle;\n",
       "    }\n",
       "\n",
       "    .dataframe tbody tr th {\n",
       "        vertical-align: top;\n",
       "    }\n",
       "\n",
       "    .dataframe thead th {\n",
       "        text-align: right;\n",
       "    }\n",
       "</style>\n",
       "<table border=\"1\" class=\"dataframe\">\n",
       "  <thead>\n",
       "    <tr style=\"text-align: right;\">\n",
       "      <th></th>\n",
       "      <th>Artist</th>\n",
       "      <th>Total Views</th>\n",
       "      <th>100M</th>\n",
       "      <th>Avg</th>\n",
       "    </tr>\n",
       "  </thead>\n",
       "  <tbody>\n",
       "    <tr>\n",
       "      <th>1374</th>\n",
       "      <td>Łobuzy</td>\n",
       "      <td>3.965000e+11</td>\n",
       "      <td>2.0</td>\n",
       "      <td>0.11</td>\n",
       "    </tr>\n",
       "    <tr>\n",
       "      <th>537</th>\n",
       "      <td>İrem Derici</td>\n",
       "      <td>1.717300e+12</td>\n",
       "      <td>3.0</td>\n",
       "      <td>0.32</td>\n",
       "    </tr>\n",
       "    <tr>\n",
       "      <th>634</th>\n",
       "      <td>Ñengo Flow</td>\n",
       "      <td>1.388800e+12</td>\n",
       "      <td>4.0</td>\n",
       "      <td>0.82</td>\n",
       "    </tr>\n",
       "    <tr>\n",
       "      <th>1032</th>\n",
       "      <td>Çağatay Akman</td>\n",
       "      <td>7.427000e+11</td>\n",
       "      <td>2.0</td>\n",
       "      <td>0.05</td>\n",
       "    </tr>\n",
       "    <tr>\n",
       "      <th>350</th>\n",
       "      <td>will.i.am</td>\n",
       "      <td>2.582000e+12</td>\n",
       "      <td>6.0</td>\n",
       "      <td>0.30</td>\n",
       "    </tr>\n",
       "    <tr>\n",
       "      <th>...</th>\n",
       "      <td>...</td>\n",
       "      <td>...</td>\n",
       "      <td>...</td>\n",
       "      <td>...</td>\n",
       "    </tr>\n",
       "    <tr>\n",
       "      <th>516</th>\n",
       "      <td>Via Vallen</td>\n",
       "      <td>1.787500e+12</td>\n",
       "      <td>3.0</td>\n",
       "      <td>0.08</td>\n",
       "    </tr>\n",
       "    <tr>\n",
       "      <th>1507</th>\n",
       "      <td>Veysel Mutlu</td>\n",
       "      <td>2.774000e+11</td>\n",
       "      <td>1.0</td>\n",
       "      <td>0.03</td>\n",
       "    </tr>\n",
       "    <tr>\n",
       "      <th>1358</th>\n",
       "      <td>Veysel</td>\n",
       "      <td>4.122000e+11</td>\n",
       "      <td>Não informado</td>\n",
       "      <td>0.06</td>\n",
       "    </tr>\n",
       "    <tr>\n",
       "      <th>891</th>\n",
       "      <td>Vengaboys</td>\n",
       "      <td>9.348000e+11</td>\n",
       "      <td>3.0</td>\n",
       "      <td>0.34</td>\n",
       "    </tr>\n",
       "    <tr>\n",
       "      <th>864</th>\n",
       "      <td>Vegedream</td>\n",
       "      <td>9.913000e+11</td>\n",
       "      <td>1.0</td>\n",
       "      <td>0.51</td>\n",
       "    </tr>\n",
       "  </tbody>\n",
       "</table>\n",
       "<p>100 rows × 4 columns</p>\n",
       "</div>"
      ],
      "text/plain": [
       "             Artist   Total Views           100M   Avg\n",
       "1374         Łobuzy  3.965000e+11            2.0  0.11\n",
       "537     İrem Derici  1.717300e+12            3.0  0.32\n",
       "634      Ñengo Flow  1.388800e+12            4.0  0.82\n",
       "1032  Çağatay Akman  7.427000e+11            2.0  0.05\n",
       "350       will.i.am  2.582000e+12            6.0  0.30\n",
       "...             ...           ...            ...   ...\n",
       "516      Via Vallen  1.787500e+12            3.0  0.08\n",
       "1507   Veysel Mutlu  2.774000e+11            1.0  0.03\n",
       "1358         Veysel  4.122000e+11  Não informado  0.06\n",
       "891       Vengaboys  9.348000e+11            3.0  0.34\n",
       "864       Vegedream  9.913000e+11            1.0  0.51\n",
       "\n",
       "[100 rows x 4 columns]"
      ]
     },
     "execution_count": 22,
     "metadata": {},
     "output_type": "execute_result"
    }
   ],
   "source": [
    "# Mostrar primeiros 100 artistas por nome decrescente\n",
    "artist_100 = df.sort_values(by = 'Artist', ascending = False).head(100)\n",
    "artist_100"
   ]
  },
  {
   "cell_type": "code",
   "execution_count": 23,
   "id": "6f8ad6ec-84e4-4980-940c-9d321c931d54",
   "metadata": {
    "tags": []
   },
   "outputs": [],
   "source": [
    "df.to_csv('data/new_topyoutube.csv', sep=',', index=False, encoding='utf-8')"
   ]
  }
 ],
 "metadata": {
  "kernelspec": {
   "display_name": "Python 3 (ipykernel)",
   "language": "python",
   "name": "python3"
  },
  "language_info": {
   "codemirror_mode": {
    "name": "ipython",
    "version": 3
   },
   "file_extension": ".py",
   "mimetype": "text/x-python",
   "name": "python",
   "nbconvert_exporter": "python",
   "pygments_lexer": "ipython3",
   "version": "3.10.8"
  }
 },
 "nbformat": 4,
 "nbformat_minor": 5
}
